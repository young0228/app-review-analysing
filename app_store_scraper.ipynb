{
  "nbformat": 4,
  "nbformat_minor": 0,
  "metadata": {
    "colab": {
      "provenance": [],
      "collapsed_sections": [],
      "mount_file_id": "1mFPcONP21C1pvB3izsYIQ8BE2G7gklen",
      "authorship_tag": "ABX9TyMjd4Sc/JS99l1A9fBrPqQ+",
      "include_colab_link": true
    },
    "kernelspec": {
      "name": "python3",
      "display_name": "Python 3"
    },
    "language_info": {
      "name": "python"
    }
  },
  "cells": [
    {
      "cell_type": "markdown",
      "metadata": {
        "id": "view-in-github",
        "colab_type": "text"
      },
      "source": [
        "<a href=\"https://colab.research.google.com/github/young0228/young0228/blob/main/app_store_scraper.ipynb\" target=\"_parent\"><img src=\"https://colab.research.google.com/assets/colab-badge.svg\" alt=\"Open In Colab\"/></a>"
      ]
    },
    {
      "cell_type": "code",
      "execution_count": 6,
      "metadata": {
        "colab": {
          "base_uri": "https://localhost:8080/"
        },
        "id": "ESbDHIFqNllq",
        "outputId": "ce038429-4dc3-4bda-b253-a1c5961415e5"
      },
      "outputs": [
        {
          "output_type": "stream",
          "name": "stdout",
          "text": [
            "Looking in indexes: https://pypi.org/simple, https://us-python.pkg.dev/colab-wheels/public/simple/\n",
            "Requirement already satisfied: app_store_scraper in /usr/local/lib/python3.7/dist-packages (0.3.5)\n",
            "Requirement already satisfied: requests==2.23.0 in /usr/local/lib/python3.7/dist-packages (from app_store_scraper) (2.23.0)\n",
            "Requirement already satisfied: certifi>=2017.4.17 in /usr/local/lib/python3.7/dist-packages (from requests==2.23.0->app_store_scraper) (2022.6.15)\n",
            "Requirement already satisfied: chardet<4,>=3.0.2 in /usr/local/lib/python3.7/dist-packages (from requests==2.23.0->app_store_scraper) (3.0.4)\n",
            "Requirement already satisfied: idna<3,>=2.5 in /usr/local/lib/python3.7/dist-packages (from requests==2.23.0->app_store_scraper) (2.10)\n",
            "Requirement already satisfied: urllib3!=1.25.0,!=1.25.1,<1.26,>=1.21.1 in /usr/local/lib/python3.7/dist-packages (from requests==2.23.0->app_store_scraper) (1.24.3)\n"
          ]
        }
      ],
      "source": [
        "pip install app_store_scraper"
      ]
    },
    {
      "cell_type": "code",
      "source": [
        "from app_store_scraper import AppStore\n",
        "import pandas as pd\n",
        "import numpy as np\n",
        "import json\n",
        "casinoslots = AppStore(country='us', app_name='doubledown-casino-slots-games', app_id = '485126024')\n",
        "casino = AppStore(country='us', app_name='doubledowncasino', app_id = '642727743')\n",
        "take5free = AppStore(country='us', app_name = 'take-5-free-vegas-slots-jackpot', app_id = '1122387239')\n",
        "bingo = AppStore(country='us', app_name = 'doubleu-bingo-epic-bingo', app_id = '1032827725')\n",
        "undead = AppStore(country='us', app_name = 'undead-world-hero-survival', app_id = '1568033850')"
      ],
      "metadata": {
        "id": "3zqYlAvKNqcO"
      },
      "execution_count": 21,
      "outputs": []
    },
    {
      "cell_type": "code",
      "source": [
        "casinoslots.review(how_many=1500)\n",
        "casino.review(how_many = 1500)\n",
        "take5free.review(how_many=1500)\n",
        "bingo.review(how_many=1500)\n",
        "undead.review(how_many=1500)"
      ],
      "metadata": {
        "colab": {
          "base_uri": "https://localhost:8080/"
        },
        "id": "LbF1ZMeNn7Up",
        "outputId": "fb22030d-f6fe-44b5-e0ab-a8b3b1f64ec6"
      },
      "execution_count": 31,
      "outputs": [
        {
          "output_type": "stream",
          "name": "stderr",
          "text": [
            "ERROR:Base:Something went wrong: HTTPSConnectionPool(host='amp-api.apps.apple.com', port=443): Max retries exceeded with url: /v1/catalog/us/apps/642727743/reviews?l=en-GB&offset=1620&limit=20&platform=web&additionalPlatforms=appletv%2Cipad%2Ciphone%2Cmac (Caused by ResponseError('too many 429 error responses'))\n",
            "ERROR:Base:Something went wrong: HTTPSConnectionPool(host='amp-api.apps.apple.com', port=443): Max retries exceeded with url: /v1/catalog/us/apps/1568033850/reviews?l=en-GB&offset=180&limit=20&platform=web&additionalPlatforms=appletv%2Cipad%2Ciphone%2Cmac (Caused by ResponseError('too many 429 error responses'))\n"
          ]
        }
      ]
    },
    {
      "cell_type": "code",
      "source": [
        "casinoslots_df = pd.DataFrame(np.array(casinoslots.reviews),columns=['review'])\n",
        "casinoslots_df2 = casinoslots_df.join(pd.DataFrame(casinoslots_df.pop('review').tolist()))\n",
        "\n",
        "casino_df = pd.DataFrame(np.array(casino.reviews),columns=['review'])\n",
        "casino_df2 = casino_df.join(pd.DataFrame(casino_df.pop('review').tolist()))\n",
        "\n",
        "take5free_df = pd.DataFrame(np.array(take5free.reviews),columns=['review'])\n",
        "take5free_df2 = take5free_df.join(pd.DataFrame(take5free_df.pop('review').tolist()))\n",
        "\n",
        "bingo_df = pd.DataFrame(np.array(bingo.reviews),columns=['review'])\n",
        "bingo_df2 = bingo_df.join(pd.DataFrame(bingo_df.pop('review').tolist()))\n",
        "\n",
        "undead_df = pd.DataFrame(np.array(undead.reviews),columns=['review'])\n",
        "undead_df2 = undead_df.join(pd.DataFrame(undead_df.pop('review').tolist()))"
      ],
      "metadata": {
        "id": "1HyvD018oURE"
      },
      "execution_count": 32,
      "outputs": []
    },
    {
      "cell_type": "code",
      "source": [
        "casinoslots_df2.to_csv('/content/drive/MyDrive/DataSets/doubleu_games/casinoslots.csv')"
      ],
      "metadata": {
        "id": "cFjCxaIIuKgQ"
      },
      "execution_count": 37,
      "outputs": []
    },
    {
      "cell_type": "code",
      "source": [
        "casino_df2.to_csv('/content/drive/MyDrive/DataSets/doubleu_games/casino.csv')"
      ],
      "metadata": {
        "id": "b2oN7iehu0Ql"
      },
      "execution_count": 38,
      "outputs": []
    },
    {
      "cell_type": "code",
      "source": [
        "take5free_df2.to_csv('/content/drive/MyDrive/DataSets/doubleu_games/take5free.csv')\n",
        "bingo_df2.to_csv('/content/drive/MyDrive/DataSets/doubleu_games/bingo.csv')\n",
        "undead_df2.to_csv('/content/drive/MyDrive/DataSets/doubleu_games/undead.csv')"
      ],
      "metadata": {
        "id": "sOp09zNku5O4"
      },
      "execution_count": 41,
      "outputs": []
    }
  ]
}