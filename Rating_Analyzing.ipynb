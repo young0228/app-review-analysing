{
  "nbformat": 4,
  "nbformat_minor": 0,
  "metadata": {
    "colab": {
      "provenance": [],
      "collapsed_sections": [],
      "authorship_tag": "ABX9TyNXkCd1pfA5gz3ZanDS0JwZ",
      "include_colab_link": true
    },
    "kernelspec": {
      "name": "python3",
      "display_name": "Python 3"
    },
    "language_info": {
      "name": "python"
    }
  },
  "cells": [
    {
      "cell_type": "markdown",
      "metadata": {
        "id": "view-in-github",
        "colab_type": "text"
      },
      "source": [
        "<a href=\"https://colab.research.google.com/github/young0228/young0228/blob/main/Rating_Analyzing.ipynb\" target=\"_parent\"><img src=\"https://colab.research.google.com/assets/colab-badge.svg\" alt=\"Open In Colab\"/></a>"
      ]
    },
    {
      "cell_type": "markdown",
      "source": [
        "reference\n",
        "\n",
        "https://www.kaggle.com/code/prakharrathi25/sentiment-analysis-using-bert\n",
        "\n",
        "https://www.kaggle.com/code/shivkumarganesh/tiktok-feature-engineering-preprocessing"
      ],
      "metadata": {
        "id": "ew0CB7mFxmqM"
      }
    },
    {
      "cell_type": "code",
      "source": [
        "from google.colab import drive\n",
        "drive.mount('/content/drive')"
      ],
      "metadata": {
        "colab": {
          "base_uri": "https://localhost:8080/"
        },
        "id": "Tx3I49kCq1X4",
        "outputId": "621dfde0-5a08-4784-d6a3-2ee8df2176f0"
      },
      "execution_count": 59,
      "outputs": [
        {
          "output_type": "stream",
          "name": "stdout",
          "text": [
            "Drive already mounted at /content/drive; to attempt to forcibly remount, call drive.mount(\"/content/drive\", force_remount=True).\n"
          ]
        }
      ]
    },
    {
      "cell_type": "code",
      "source": [
        "import pandas as pd\n",
        "import numpy as np\n",
        "import seaborn as sns\n",
        "import matplotlib.pyplot as plt\n",
        "from sklearn.model_selection import train_test_split"
      ],
      "metadata": {
        "id": "RdEP-877rP1L"
      },
      "execution_count": 60,
      "outputs": []
    },
    {
      "cell_type": "code",
      "source": [
        "bingo = pd.read_csv('/content/drive/MyDrive/DataSets/doubleu_games/bingo.csv')\n",
        "casino = pd.read_csv('/content/drive/MyDrive/DataSets/doubleu_games/casino.csv')\n",
        "casinoslots = pd.read_csv('/content/drive/MyDrive/DataSets/doubleu_games/casinoslots.csv')\n",
        "take5free = pd.read_csv('/content/drive/MyDrive/DataSets/doubleu_games/take5free.csv')\n",
        "undead = pd.read_csv('/content/drive/MyDrive/DataSets/doubleu_games/undead.csv')"
      ],
      "metadata": {
        "id": "XFJXqAjcrEHh"
      },
      "execution_count": 61,
      "outputs": []
    },
    {
      "cell_type": "code",
      "source": [
        "print(f\"Bingo'Shape is {bingo.shape}\")\n",
        "print(f\"Casino'Shape is {casino.shape}\")\n",
        "print(f\"Casino Slots'Shape is {casinoslots.shape}\")\n",
        "print(f\"take5free'Shape is {take5free.shape}\")\n",
        "print(f\"Undead'Shape is {undead.shape}\")"
      ],
      "metadata": {
        "colab": {
          "base_uri": "https://localhost:8080/"
        },
        "id": "kdd6hykiv5R4",
        "outputId": "349e17a4-4baa-424f-e950-086e008f62d4"
      },
      "execution_count": 62,
      "outputs": [
        {
          "output_type": "stream",
          "name": "stdout",
          "text": [
            "Bingo'Shape is (431, 8)\n",
            "Casino'Shape is (1620, 8)\n",
            "Casino Slots'Shape is (4500, 8)\n",
            "take5free'Shape is (487, 8)\n",
            "Undead'Shape is (212, 8)\n"
          ]
        }
      ]
    },
    {
      "cell_type": "code",
      "source": [
        "#To find null values\n",
        "\n",
        "print(f\"bingo\\n {bingo.isnull().sum()} \\n\\n\")\n",
        "print(f\"casino\\n {casino.isnull().sum()} \\n\\n\")\n",
        "print(f\"casino slots\\n {casinoslots.isnull().sum()} \\n\\n\")\n",
        "print(f\"take5free\\n {take5free.isnull().sum()} \\n\\n\")\n",
        "print(f\"Undead\\n {undead.isnull().sum()}\")"
      ],
      "metadata": {
        "colab": {
          "base_uri": "https://localhost:8080/"
        },
        "id": "pMCHkv-DvwXm",
        "outputId": "6de46023-4c9c-4443-bfc6-5bfed59f85da"
      },
      "execution_count": 63,
      "outputs": [
        {
          "output_type": "stream",
          "name": "stdout",
          "text": [
            "bingo\n",
            " Unnamed: 0             0\n",
            "title                  0\n",
            "userName               0\n",
            "review                 0\n",
            "isEdited               0\n",
            "rating                 0\n",
            "developerResponse    349\n",
            "date                   0\n",
            "dtype: int64 \n",
            "\n",
            "\n",
            "casino\n",
            " Unnamed: 0             0\n",
            "userName               0\n",
            "review                 0\n",
            "developerResponse    677\n",
            "date                   0\n",
            "title                  0\n",
            "isEdited               0\n",
            "rating                 0\n",
            "dtype: int64 \n",
            "\n",
            "\n",
            "casino slots\n",
            " Unnamed: 0              0\n",
            "title                   0\n",
            "date                    0\n",
            "rating                  0\n",
            "isEdited                0\n",
            "review                  0\n",
            "developerResponse    2774\n",
            "userName                0\n",
            "dtype: int64 \n",
            "\n",
            "\n",
            "take5free\n",
            " Unnamed: 0             0\n",
            "isEdited               0\n",
            "rating                 0\n",
            "date                   0\n",
            "userName               0\n",
            "developerResponse    262\n",
            "title                  0\n",
            "review                 0\n",
            "dtype: int64 \n",
            "\n",
            "\n",
            "Undead\n",
            " Unnamed: 0           0\n",
            "title                0\n",
            "review               0\n",
            "userName             0\n",
            "rating               0\n",
            "date                 0\n",
            "isEdited             0\n",
            "developerResponse    1\n",
            "dtype: int64\n"
          ]
        }
      ]
    },
    {
      "cell_type": "code",
      "source": [
        "fig, axes = plt.subplots(1, 5, figsize=(25,5), sharey=False)\n",
        "fig.suptitle('Review Score', size =20)\n",
        "\n",
        "sns.countplot(ax=axes[0], x=\"rating\", data=bingo)\n",
        "axes[0].set_title('bingo review score')\n",
        "\n",
        "sns.countplot(ax=axes[1], x=\"rating\", data = casino)\n",
        "axes[1].set_title('casino review score')\n",
        "\n",
        "sns.countplot(ax=axes[2], x=\"rating\", data = casinoslots)\n",
        "axes[2].set_title('casino slots review score')\n",
        "\n",
        "sns.countplot(ax=axes[3],x=\"rating\", data = take5free)\n",
        "axes[3].set_title('take5free review score')\n",
        "\n",
        "sns.countplot(ax=axes[4],x=\"rating\", data = undead)\n",
        "axes[4].set_title('undead review score')"
      ],
      "metadata": {
        "colab": {
          "base_uri": "https://localhost:8080/",
          "height": 356
        },
        "id": "fhYrmeNSwdoP",
        "outputId": "1724bf19-cede-41ef-d2b7-2867b564fe0b"
      },
      "execution_count": 64,
      "outputs": [
        {
          "output_type": "execute_result",
          "data": {
            "text/plain": [
              "Text(0.5, 1.0, 'undead review score')"
            ]
          },
          "metadata": {},
          "execution_count": 64
        },
        {
          "output_type": "display_data",
          "data": {
            "text/plain": [
              "<Figure size 1800x360 with 5 Axes>"
            ],
            "image/png": "[encoded data removed]"
          },
          "metadata": {
            "needs_background": "light"
          }
        }
      ]
    },
    {
      "cell_type": "code",
      "source": [
        "def to_sentiment(score):\n",
        "  scrore = int(score)\n",
        "\n",
        "  if score <= 2:\n",
        "    return 0\n",
        "  elif score ==3:\n",
        "    return 1\n",
        "  else:\n",
        "    return 2\n",
        "\n",
        "bingo['sentiment'] = bingo.rating.apply(to_sentiment)\n",
        "casino['sentiment'] = casino.rating.apply(to_sentiment)\n",
        "casinoslots['sentiment'] = casinoslots.rating.apply(to_sentiment)\n",
        "take5free['sentiment'] = take5free.rating.apply(to_sentiment)\n",
        "undead['sentiment'] = undead.rating.apply(to_sentiment)"
      ],
      "metadata": {
        "id": "rX53mECMx1Zl"
      },
      "execution_count": 67,
      "outputs": []
    },
    {
      "cell_type": "code",
      "source": [
        "class_names = ['negative', 'neutral', 'positive']\n",
        "\n",
        "fig, axes = plt.subplots(1, 5, figsize = (25, 5), sharey =False)\n",
        "fig.suptitle('review sentiment')\n",
        "\n",
        "sns.countplot(ax=axes[0], x=bingo.sentiment, data=bingo)\n",
        "axes[0].set_xticklabels(class_names)\n",
        "axes[0].set_title('bingo')\n",
        "\n",
        "sns.countplot(ax=axes[1], x=casino.sentiment, data=casino)\n",
        "axes[1].set_xticklabels(class_names)\n",
        "axes[1].set_title('casino')\n",
        "\n",
        "sns.countplot(ax=axes[2], x=casinoslots.sentiment, data=casinoslots)\n",
        "axes[2].set_xticklabels(class_names)\n",
        "axes[2].set_title('casinoslots')\n",
        "\n",
        "sns.countplot(ax=axes[3], x=take5free.sentiment, data=take5free)\n",
        "axes[3].set_xticklabels(class_names)\n",
        "axes[3].set_title('take5free')\n",
        "\n",
        "sns.countplot(ax=axes[4], x=undead.sentiment, data=undead)\n",
        "axes[4].set_xticklabels(class_names)\n",
        "axes[4].set_title('undead')"
      ],
      "metadata": {
        "id": "amCv0cd2yzdh",
        "colab": {
          "base_uri": "https://localhost:8080/",
          "height": 356
        },
        "outputId": "1a5b4fe8-b793-437e-8e07-f8db43589845"
      },
      "execution_count": 72,
      "outputs": [
        {
          "output_type": "execute_result",
          "data": {
            "text/plain": [
              "Text(0.5, 1.0, 'undead')"
            ]
          },
          "metadata": {},
          "execution_count": 72
        },
        {
          "output_type": "display_data",
          "data": {
            "text/plain": [
              "<Figure size 1800x360 with 5 Axes>"
            ],
            "image/png": "[encoded data removed]"
          },
          "metadata": {
            "needs_background": "light"
          }
        }
      ]
    }
  ]
}